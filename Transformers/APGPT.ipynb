{
  "nbformat": 4,
  "nbformat_minor": 0,
  "metadata": {
    "colab": {
      "provenance": [],
      "authorship_tag": "ABX9TyOOGezzb3sF4RpR5xumpxYR",
      "include_colab_link": true
    },
    "kernelspec": {
      "name": "python3",
      "display_name": "Python 3"
    },
    "language_info": {
      "name": "python"
    }
  },
  "cells": [
    {
      "cell_type": "markdown",
      "metadata": {
        "id": "view-in-github",
        "colab_type": "text"
      },
      "source": [
        "<a href=\"https://colab.research.google.com/github/Aaditya-Prasad/APML/blob/main/Transformers/APGPT.ipynb\" target=\"_parent\"><img src=\"https://colab.research.google.com/assets/colab-badge.svg\" alt=\"Open In Colab\"/></a>"
      ]
    },
    {
      "cell_type": "code",
      "execution_count": null,
      "metadata": {
        "id": "5fg18a-gvAP8"
      },
      "outputs": [],
      "source": [
        "# testing github - colab "
      ]
    },
    {
      "cell_type": "code",
      "source": [],
      "metadata": {
        "id": "7sRS0jIBymHX"
      },
      "execution_count": null,
      "outputs": []
    }
  ]
}