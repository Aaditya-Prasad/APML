{
  "nbformat": 4,
  "nbformat_minor": 0,
  "metadata": {
    "colab": {
      "provenance": [],
      "authorship_tag": "ABX9TyO5IexembOVcR6EusDwjuGz",
      "include_colab_link": true
    },
    "kernelspec": {
      "name": "python3",
      "display_name": "Python 3"
    },
    "language_info": {
      "name": "python"
    }
  },
  "cells": [
    {
      "cell_type": "markdown",
      "metadata": {
        "id": "view-in-github",
        "colab_type": "text"
      },
      "source": [
        "<a href=\"https://colab.research.google.com/github/Aaditya-Prasad/APML/blob/main/Transformers/APGPT.ipynb\" target=\"_parent\"><img src=\"https://colab.research.google.com/assets/colab-badge.svg\" alt=\"Open In Colab\"/></a>"
      ]
    },
    {
      "cell_type": "code",
      "execution_count": null,
      "metadata": {
        "id": "5fg18a-gvAP8"
      },
      "outputs": [],
      "source": [
        "# references\n",
        "# GPT 2:\n",
        "# https://d4mucfpksywv.cloudfront.net/better-language-models/language_models_are_unsupervised_multitask_learners.pdf\n",
        "# GPT: \n",
        "# https://s3-us-west-2.amazonaws.com/openai-assets/research-covers/language-unsupervised/language_understanding_paper.pdf\n",
        "# Attention is all you need:\n",
        "# https://arxiv.org/pdf/1706.03762.pdf\n",
        "# Annotated Transformer:\n",
        "# http://nlp.seas.harvard.edu/annotated-transformer/#embeddings-and-softmax\n",
        "# Cramming:\n",
        "# https://arxiv.org/pdf/2212.14034.pdf\n",
        "# Layer norms:\n",
        "# https://arxiv.org/pdf/1607.06450.pdf\n",
        "# Karpathy's video"
      ]
    },
    {
      "cell_type": "code",
      "source": [
        "# Open questions\n",
        "# How is the vocab built?\n",
        "# "
      ],
      "metadata": {
        "id": "Sm10WkijI6WQ"
      },
      "execution_count": 1,
      "outputs": []
    },
    {
      "cell_type": "code",
      "source": [
        "!wget https://raw.githubusercontent.com/karpathy/char-rnn/master/data/tinyshakespeare/input.txt"
      ],
      "metadata": {
        "id": "a-bCeHvk23Bf",
        "outputId": "07abd57b-c047-4427-cf55-8f67adab14d4",
        "colab": {
          "base_uri": "https://localhost:8080/"
        }
      },
      "execution_count": 2,
      "outputs": [
        {
          "output_type": "stream",
          "name": "stdout",
          "text": [
            "--2023-01-21 01:04:58--  https://raw.githubusercontent.com/karpathy/char-rnn/master/data/tinyshakespeare/input.txt\n",
            "Resolving raw.githubusercontent.com (raw.githubusercontent.com)... 185.199.110.133, 185.199.111.133, 185.199.108.133, ...\n",
            "Connecting to raw.githubusercontent.com (raw.githubusercontent.com)|185.199.110.133|:443... connected.\n",
            "HTTP request sent, awaiting response... 200 OK\n",
            "Length: 1115394 (1.1M) [text/plain]\n",
            "Saving to: ‘input.txt’\n",
            "\n",
            "\rinput.txt             0%[                    ]       0  --.-KB/s               \rinput.txt           100%[===================>]   1.06M  --.-KB/s    in 0.03s   \n",
            "\n",
            "2023-01-21 01:04:58 (33.5 MB/s) - ‘input.txt’ saved [1115394/1115394]\n",
            "\n"
          ]
        }
      ]
    },
    {
      "cell_type": "code",
      "source": [
        "import os\n",
        "from os.path import exists\n",
        "import torch\n",
        "import torch.nn as nn\n",
        "from torch.nn.functional import log_softmax, pad\n",
        "import math\n",
        "import copy\n",
        "import time\n",
        "from torch.optim.lr_scheduler import LambdaLR\n",
        "import pandas as pd\n",
        "import altair as alt\n",
        "from torchtext.data.functional import to_map_style_dataset\n",
        "from torch.utils.data import DataLoader\n",
        "from torchtext.vocab import build_vocab_from_iterator\n",
        "import torchtext.datasets as datasets\n",
        "import spacy\n",
        "# import GPUtil\n",
        "import warnings\n",
        "from torch.utils.data.distributed import DistributedSampler\n",
        "import torch.distributed as dist\n",
        "import torch.multiprocessing as mp\n",
        "from torch.nn.parallel import DistributedDataParallel as DDP"
      ],
      "metadata": {
        "id": "7sRS0jIBymHX",
        "colab": {
          "base_uri": "https://localhost:8080/"
        },
        "outputId": "37515f0c-86b9-4307-f2e5-d734e82c63ef"
      },
      "execution_count": 8,
      "outputs": [
        {
          "output_type": "stream",
          "name": "stderr",
          "text": [
            "/usr/local/lib/python3.8/dist-packages/torch/cuda/__init__.py:497: UserWarning: Can't initialize NVML\n",
            "  warnings.warn(\"Can't initialize NVML\")\n"
          ]
        }
      ]
    },
    {
      "cell_type": "code",
      "source": [
        "##Transformer Parameters from Attention is All You Need\n",
        "\n",
        "#Number of decoder blocks \n",
        "num_blocks = 6\n",
        "\n",
        "#dimension of tensors used in the model\n",
        "d_model = 512\n",
        "\n",
        "#height of the multi-head attention\n",
        "h = 8\n",
        "#dimension of the key/value matrices \n",
        "d_key = d_model/h\n",
        "d_value = d_key\n",
        "\n",
        "\n",
        "#dropout percentages\n",
        "AttnDropout = nn.Dropout(p = .1)\n",
        "SublayerDropout = nn.Dropout(p = .1)"
      ],
      "metadata": {
        "id": "ES4FuGbO4kkc"
      },
      "execution_count": null,
      "outputs": []
    },
    {
      "cell_type": "code",
      "source": [
        "#Word embeddings are learned \n",
        "class WordEmbedding(nn.Module):\n",
        "  def __init__(self, d_model, vocab):\n",
        "    super().__init__()\n",
        "    self.embed = nn.Embedding(vocab, d_model)\n",
        "    self.d_model = d_model\n",
        "\n",
        "  #multiply embedding outputs by sqrt of model dimension as per GPT-2 paper\n",
        "  def forward(self, x):\n",
        "    return embed(x) * math.sqrt(self.d_model)\n",
        "\n",
        "#TODO: Positional embeddings are learned, need to save module into GPT class\n",
        "#Positional embeddings are simply added to normal Embedding"
      ],
      "metadata": {
        "id": "n7lm8oLT8BRP"
      },
      "execution_count": null,
      "outputs": []
    },
    {
      "cell_type": "code",
      "source": [
        "##Playground\n",
        "lin = nn.Linear(3, 5)\n",
        "x = torch.zeros(3, 4, 20)\n",
        "z = torch.zeros(3, 20, 4)\n",
        "torch.matmul(x, z).shape\n",
        "y = torch.zeros(12, 8, 1, 64)\n",
        "a = torch.zeros(12, 8, 1, 64)\n",
        "y[:, -1].shape\n",
        "scores = torch.matmul(y, a.transpose(-2, -1))\n",
        "# scores.view(12, -1, 8*64)\n",
        "scores = torch.matmul(scores, y)\n",
        "scores.shape\n",
        "scores.view(12, -1, 8*64).shape\n",
        "\n",
        "\n",
        "# y = torch.tensor([[[1.0, 2.0, 3.0],[4.0, 5.0, 6.0],[7.0, 8.0, 9.0],[10.0, 11.0, 12.0]],[[1.0, 2.0, 3.0],[4.0, 5.0, 6.0],[7.0, 8.0, 9.0],[10.0, 11.0, 12.0]],[[1.0, 2.0, 3.0],[4.0, 5.0, 6.0],[7.0, 8.0, 9.0],[10.0, 11.0, 12.0]]])\n",
        "# y.shape\n",
        "# lin(y.view(4, 3, 3)).shape\n",
        "# x.view(3, -1, 3, 5).transpose(1, 2).shape\n",
        "\n",
        "\n"
      ],
      "metadata": {
        "id": "MlemdULrLO_q",
        "colab": {
          "base_uri": "https://localhost:8080/"
        },
        "outputId": "4c54eb01-0ab5-47cd-cc3f-4fe266f67bc4"
      },
      "execution_count": 102,
      "outputs": [
        {
          "output_type": "execute_result",
          "data": {
            "text/plain": [
              "torch.Size([12, 8, 1, 64])"
            ]
          },
          "metadata": {},
          "execution_count": 102
        }
      ]
    },
    {
      "cell_type": "code",
      "source": [
        "#This isn't a module because we only learn how to create the Q, K, V, this is just a computation\n",
        "def attention(query, key, value, mask):\n",
        "  scores = torch.matmul(query, key.transpose(-2, -1))/(math.sqrt(d_key)) #h x d_key x d_key x h = h x h\n",
        "  if mask is not None:\n",
        "    scores.masked_fill(mask == 0, 1e-9)\n",
        "  scores.softmax(dim = 1) #because the rows are the \"units\" of computation\n",
        "  scores = AttnDropout(scores)\n",
        "  return torch.matmul(scores, value) #h x h x h x d_key = h x d_key"
      ],
      "metadata": {
        "id": "IhdbJAQ7iToq"
      },
      "execution_count": 105,
      "outputs": []
    },
    {
      "cell_type": "code",
      "source": [
        "class FFN(nn.Module):\n",
        "  def __init__(self, fdim = 2048, d_model = 512, dropout = .1):\n",
        "    super().__init__()\n",
        "    self.fdim = fdim\n",
        "    self.d_model = d_model\n",
        "    self.W_1 = nn.Linear(d_model, fdim)\n",
        "    self.W_2 = nn.Linear(fdim, d_model)\n",
        "    self.dropout = dropout\n",
        "\n",
        "  def forward(self, x):\n",
        "    return self.W_2(self.dropout(self.W_1(x).relu()))"
      ],
      "metadata": {
        "id": "HYM0hVkSnXzo"
      },
      "execution_count": null,
      "outputs": []
    },
    {
      "cell_type": "code",
      "source": [
        "#TODO: understand the shape of the mask everywhere \n",
        "def subsequent_mask(size):\n",
        "    attn_shape = (1, size, size)\n",
        "    subsequent_mask = torch.triu(torch.ones(attn_shape), diagonal=1).type(\n",
        "        torch.uint8\n",
        "    )\n",
        "    return subsequent_mask == 0"
      ],
      "metadata": {
        "id": "cFAuQWkypwUe"
      },
      "execution_count": null,
      "outputs": []
    },
    {
      "cell_type": "code",
      "source": [
        "class LayerNorm(nn.Module):\n",
        "  def __init__(self, features, eps=1e-6):\n",
        "    super().__init__()\n",
        "    self.a = nn.Parameter(torch.ones(features))\n",
        "    self.b = nn.Parameter(torch.zeroes(features))\n",
        "    self.eps = eps\n",
        "\n",
        "  def forward(self, x):\n",
        "    mean = x.mean(-1, keepdim = True)\n",
        "    std = x.std(-1, keepdim = True)\n",
        "    x = (x-mean) #shifts by the mean\n",
        "    x = x/(std + self.eps) #normalizes so data is clustered around [-1, 1] except shifted by eps to prevent div by zero\n",
        "    return a*x + b"
      ],
      "metadata": {
        "id": "WWO4zrRgkc_p"
      },
      "execution_count": null,
      "outputs": []
    },
    {
      "cell_type": "code",
      "source": [
        "class MAttention(nn.Module):\n",
        "  def __init__(d_model, d_key, d_value, h):\n",
        "    super().__init__()\n",
        "    self.trans = copy(nn.Linear(d_model, d_model), 4) #WQ, WK, WV, WO -- we are going to do the actual change of dim with a view\n",
        "    self.h = h\n",
        "    self.d_key = d_key\n",
        "    self.d_value = d.value\n",
        "    self.d_model = d_model\n",
        "\n",
        "  def forward(self, query, key, value, mask = None):\n",
        "    #TODO: figure out masks\n",
        "    nbatches = query.shape(0)\n",
        "    query, key, value = {\n",
        "                lin(x).view(nbatches, self.h, 1, d_key) for x, lin in zip((query, key, value), self.trans) \n",
        "    }\n",
        "    x = attention(query, key, value, mask = mask) #(12, 8, 1, 64) b/c attention preserves shape \n",
        "    x.contiguous.view(nbatches, -1, self.d_model) #(12, 1, 512) (not sure why we need the extra dimension, think it has to do with allowing us to do matmul while nbatches is first dim)\n",
        "    del query\n",
        "    del key\n",
        "    del value\n",
        "    return self.trans[-1](x) #WO\n"
      ],
      "metadata": {
        "id": "hf64eGxWomex"
      },
      "execution_count": null,
      "outputs": []
    },
    {
      "cell_type": "code",
      "source": [
        "#layerNorm(x) -> attention(x') -> layerNorm(dropout(x'')+x'') -> FFN(x''')\n",
        "#TODO: decide if another residual connection is needed, confused with how layerNorm was moved to subblock input in GPT-2 paper\n",
        "class Layer(nn.Module):\n",
        "  def __init__(self, d_model, MAttention, LayernOrm, SublayerDropout, FFN):\n",
        "    super().__init__()\n",
        "    self.d_model = d_model \n",
        "    self.MAttention = MAttention \n",
        "    self.LayerNorm = LayerNorm \n",
        "    self.SublayerDropout \n",
        "    self.FFN\n",
        "\n",
        "  def forward(self, x):\n",
        "    x = self.SublayerDropout(x)\n",
        "    x = self.LayerNorm(x)\n",
        "    y = self.MAttention(x)\n",
        "    x = self.LayerNorm(self.SublayerDropout(y)+x) #dropout does not apply to the residual connection\n",
        "    return self.FFN(x)+x #the last layernorm has to happen after all the layers are called"
      ],
      "metadata": {
        "id": "LnD9v3dhKYYO"
      },
      "execution_count": null,
      "outputs": []
    },
    {
      "cell_type": "code",
      "source": [
        "####Model is done, now onto vocab preperation\n",
        "with open('input.txt', 'r', encoding='utf-8') as f:\n",
        "    text = f.read()\n",
        "len(text)"
      ],
      "metadata": {
        "id": "jtT3XYip3_ib",
        "outputId": "448c9735-9cbc-480f-f48a-d318788b20d9",
        "colab": {
          "base_uri": "https://localhost:8080/"
        }
      },
      "execution_count": 3,
      "outputs": [
        {
          "output_type": "execute_result",
          "data": {
            "text/plain": [
              "1115394"
            ]
          },
          "metadata": {},
          "execution_count": 3
        }
      ]
    },
    {
      "cell_type": "code",
      "source": [
        "characters = sorted(list(set(text)))\n",
        "vocab = len(characters) #we are going to predict next characters\n",
        "##TODO: after I get next character to work, want to implement BPE"
      ],
      "metadata": {
        "id": "CQ2r-qB_4N8Q",
        "outputId": "1c9297e4-5af1-4edc-8acf-4eef4c96b435",
        "colab": {
          "base_uri": "https://localhost:8080/"
        }
      },
      "execution_count": 7,
      "outputs": [
        {
          "output_type": "execute_result",
          "data": {
            "text/plain": [
              "65"
            ]
          },
          "metadata": {},
          "execution_count": 7
        }
      ]
    },
    {
      "cell_type": "code",
      "source": [
        "stoi = {ch:i for i, ch in enumerate(characters)}\n",
        "itos = {i:ch for i, ch in enumerate(characters)}\n",
        "def encode(x):\n",
        "  return [stoi[c] for c in x]\n",
        "\n",
        "def decode(x):\n",
        "  return ''.join([itos[i] for i in x])"
      ],
      "metadata": {
        "id": "L5dD_LHX5tZy"
      },
      "execution_count": 9,
      "outputs": []
    },
    {
      "cell_type": "code",
      "source": [
        "text_data = torch.tensor(encode(text), dtype = torch.long)\n",
        "#now we are going to split the dataset into train and test\n",
        "i = int(.9 * len(text_data))\n",
        "train = text_data[:i]\n",
        "test = text_data[i:]\n",
        "len(text_data) - len(train) - len(test)"
      ],
      "metadata": {
        "id": "V7K4-Yor5kgA",
        "outputId": "dd7bc7a3-d088-4ebd-bb8d-00258a63fae1",
        "colab": {
          "base_uri": "https://localhost:8080/"
        }
      },
      "execution_count": 13,
      "outputs": [
        {
          "output_type": "execute_result",
          "data": {
            "text/plain": [
              "0"
            ]
          },
          "metadata": {},
          "execution_count": 13
        }
      ]
    },
    {
      "cell_type": "code",
      "source": [
        "torch.manual_seed(1337) #will change this later, just for testing"
      ],
      "metadata": {
        "id": "vCQAVopE7HxF",
        "outputId": "6d18af4c-9088-43e9-8ab9-34ab3da6515c",
        "colab": {
          "base_uri": "https://localhost:8080/"
        }
      },
      "execution_count": 12,
      "outputs": [
        {
          "output_type": "execute_result",
          "data": {
            "text/plain": [
              "tensor([18, 47, 56, 57, 58,  1, 15, 47, 58, 47, 64, 43, 52, 10,  0, 14, 43, 44,\n",
              "        53, 56, 43,  1, 61, 43,  1, 54, 56, 53, 41, 43, 43, 42,  1, 39, 52, 63,\n",
              "         1, 44, 59, 56, 58, 46, 43, 56,  6,  1, 46, 43, 39, 56,  1, 51, 43,  1,\n",
              "        57, 54, 43, 39, 49,  8,  0,  0, 13, 50, 50, 10,  0, 31, 54, 43, 39, 49,\n",
              "         6,  1, 57, 54, 43, 39, 49,  8,  0,  0, 18, 47, 56, 57, 58,  1, 15, 47,\n",
              "        58, 47, 64, 43, 52, 10,  0, 37, 53, 59])"
            ]
          },
          "metadata": {},
          "execution_count": 12
        }
      ]
    },
    {
      "cell_type": "code",
      "source": [
        "#need to understand which of these are nbatches\n",
        "batch_size = 4 \n",
        "block_size = 8\n",
        "\n",
        "def get_batch(split):\n",
        "  data = train if split == \"train\" else test\n",
        "  x_i = torch.randint(len(data) - block_size, (batch_size, )) #4 different places we are going to start blocks from\n",
        "  x = torch.stack([data[i:i+block_size] for i in x_i])\n",
        "  y = torch.stack(data[i+1:i+block_size+1] for i in x_i)\n",
        "  #need to know one more word in y so that we can see what in x led to that last word/so we can predict it\n",
        "  return x, y\n"
      ],
      "metadata": {
        "id": "_Mdj8uqGCt8J"
      },
      "execution_count": null,
      "outputs": []
    },
    {
      "cell_type": "code",
      "source": [
        "#playground\n",
        "batch_size = 4 \n",
        "block_size = 8\n",
        "torch.randint(len(text_data) - block_size, (batch_size, ))\n"
      ],
      "metadata": {
        "id": "jUXmr3WYFfou",
        "outputId": "165bd1a3-6a30-4cc1-89a2-be3c7b4cfb34",
        "colab": {
          "base_uri": "https://localhost:8080/",
          "height": 204
        }
      },
      "execution_count": 34,
      "outputs": [
        {
          "output_type": "error",
          "ename": "IndexError",
          "evalue": "ignored",
          "traceback": [
            "\u001b[0;31m---------------------------------------------------------------------------\u001b[0m",
            "\u001b[0;31mIndexError\u001b[0m                                Traceback (most recent call last)",
            "\u001b[0;32m<ipython-input-34-df48f9f01988>\u001b[0m in \u001b[0;36m<module>\u001b[0;34m\u001b[0m\n\u001b[1;32m      3\u001b[0m \u001b[0mblock_size\u001b[0m \u001b[0;34m=\u001b[0m \u001b[0;36m8\u001b[0m\u001b[0;34m\u001b[0m\u001b[0;34m\u001b[0m\u001b[0m\n\u001b[1;32m      4\u001b[0m \u001b[0mtorch\u001b[0m\u001b[0;34m.\u001b[0m\u001b[0mrandint\u001b[0m\u001b[0;34m(\u001b[0m\u001b[0mlen\u001b[0m\u001b[0;34m(\u001b[0m\u001b[0mtext_data\u001b[0m\u001b[0;34m)\u001b[0m \u001b[0;34m-\u001b[0m \u001b[0mblock_size\u001b[0m\u001b[0;34m,\u001b[0m \u001b[0;34m(\u001b[0m\u001b[0mbatch_size\u001b[0m\u001b[0;34m,\u001b[0m \u001b[0;34m)\u001b[0m\u001b[0;34m)\u001b[0m\u001b[0;34m\u001b[0m\u001b[0;34m\u001b[0m\u001b[0m\n\u001b[0;32m----> 5\u001b[0;31m \u001b[0mtext_data\u001b[0m\u001b[0;34m[\u001b[0m\u001b[0;36m1\u001b[0m\u001b[0;34m,\u001b[0m\u001b[0;36m1\u001b[0m\u001b[0;34m+\u001b[0m\u001b[0mblock_size\u001b[0m\u001b[0;34m]\u001b[0m\u001b[0;34m\u001b[0m\u001b[0;34m\u001b[0m\u001b[0m\n\u001b[0m",
            "\u001b[0;31mIndexError\u001b[0m: too many indices for tensor of dimension 1"
          ]
        }
      ]
    }
  ]
}