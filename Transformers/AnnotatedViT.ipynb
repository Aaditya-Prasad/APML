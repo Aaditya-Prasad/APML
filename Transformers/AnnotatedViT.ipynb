{
  "cells": [
    {
      "cell_type": "markdown",
      "metadata": {
        "colab_type": "text",
        "id": "view-in-github"
      },
      "source": [
        "<a href=\"https://colab.research.google.com/github/Aaditya-Prasad/APML/blob/main/Transformers/AnnotatedViT.ipynb\" target=\"_parent\"><img src=\"https://colab.research.google.com/assets/colab-badge.svg\" alt=\"Open In Colab\"/></a>"
      ]
    },
    {
      "cell_type": "code",
      "execution_count": 1,
      "metadata": {
        "id": "qj0O8WaY_iNc"
      },
      "outputs": [],
      "source": [
        "import os\n",
        "from os.path import exists\n",
        "import torch\n",
        "import torch.nn as nn\n",
        "from torch.nn.functional import log_softmax, pad\n",
        "import math\n",
        "import copy\n",
        "import time\n",
        "from torch.optim.lr_scheduler import LambdaLR\n",
        "import pandas as pd\n",
        "import altair as alt\n",
        "from torch.utils.data import RandomSampler, DataLoader, Subset\n",
        "import warnings\n",
        "from torch.utils.data.distributed import DistributedSampler\n",
        "import torch.distributed as dist\n",
        "import torch.multiprocessing as mp\n",
        "import torchvision\n",
        "import torchvision.transforms\n",
        "from torch.nn.parallel import DistributedDataParallel as DDP\n",
        "import torchvision.datasets as datasets\n",
        "import cv2 as cv\n",
        "import numpy as np\n",
        "import matplotlib\n",
        "from matplotlib import pyplot as plt\n",
        "%matplotlib inline"
      ]
    },
    {
      "cell_type": "code",
      "execution_count": 51,
      "metadata": {},
      "outputs": [],
      "source": [
        "# Constants\n",
        "PATCH_SIZE = 4\n",
        "NUM_PATCHES = 28//PATCH_SIZE #this is the number of patches on a side length, total patches is this squared\n",
        "D_MODEL = 16\n",
        "FINAL_HIDDEN_DIM = 16 #this is the dimension of the hidden layer \n",
        "CLASSES = 10 #10 different numbers to classify between"
      ]
    },
    {
      "cell_type": "code",
      "execution_count": 3,
      "metadata": {},
      "outputs": [],
      "source": [
        "mnist_trainset = datasets.MNIST(root='./data', train=True, download=True, transform=None)\n",
        "mnist_testset = datasets.MNIST(root='./data', train=False, download=True, transform=None)"
      ]
    },
    {
      "cell_type": "code",
      "execution_count": 4,
      "metadata": {},
      "outputs": [
        {
          "data": {
            "text/plain": [
              "<matplotlib.image.AxesImage at 0x7fcadc5e1120>"
            ]
          },
          "execution_count": 4,
          "metadata": {},
          "output_type": "execute_result"
        },
        {
          "data": {
            "image/png": "[encoded data removed]",
            "text/plain": [
              "<Figure size 640x480 with 1 Axes>"
            ]
          },
          "metadata": {},
          "output_type": "display_data"
        }
      ],
      "source": [
        "plt.imshow(mnist_trainset[1][0], cmap = 'gray')"
      ]
    },
    {
      "cell_type": "code",
      "execution_count": 5,
      "metadata": {},
      "outputs": [],
      "source": [
        "def patchify(x):\n",
        "    x = torch.tensor(np.array(x)).to(dtype=torch.float32) #MNIST is in uint8, so we need to convert it to float32\n",
        "    tokens = []\n",
        "    for i in range(NUM_PATCHES):\n",
        "        for j in range(NUM_PATCHES):\n",
        "            tokens.append(x[i*PATCH_SIZE:(i+1)*PATCH_SIZE, j*PATCH_SIZE:(j+1)*PATCH_SIZE].reshape(-1))\n",
        "    return torch.stack(tokens)\n"
      ]
    },
    {
      "cell_type": "code",
      "execution_count": 78,
      "metadata": {},
      "outputs": [],
      "source": [
        "class Embeddings(nn.Module):\n",
        "    def __init__(self, D_MODEL):\n",
        "        super().__init__()\n",
        "        self.D_MODEL = D_MODEL\n",
        "        self.lin = nn.Linear(PATCH_SIZE**2, D_MODEL)\n",
        "        self.pos = nn.Parameter(torch.randn(NUM_PATCHES**2+1, D_MODEL))\n",
        "        self.y = nn.Parameter(torch.randn(1, D_MODEL))\n",
        "    \n",
        "\n",
        "    def forward(self, x):\n",
        "        #linear projection to D_MODEL\n",
        "        x = self.lin(x)\n",
        "        #prepend the class embedding\n",
        "        x = torch.cat((self.y.unsqueeze(0), x), dim=0)\n",
        "        #add positional embeddings\n",
        "        x = x + self.pos\n",
        "        return x\n"
      ]
    },
    {
      "cell_type": "code",
      "execution_count": 40,
      "metadata": {},
      "outputs": [],
      "source": [
        "class LayerNorm(nn.Module):\n",
        "    #we will put tokens in as features so that layernorm knows the size of the input it has to norm across\n",
        "    def __init__(self, features, eps = 1e-6):\n",
        "        super().__init__()\n",
        "        self.a = nn.Parameter(torch.ones(features)) #learned weights\n",
        "        self.b = nn.Parameter(torch.zeros(features)) #learned bias\n",
        "        self.eps = eps #this is so that we don't divide by zero in forward\n",
        "    \n",
        "    def forward(self, tokens):\n",
        "        mean = tokens.mean(-1, keepdim = True) #this takes the mean across every row (which is the mean across every patch)\n",
        "        std = tokens.std(-1, keepdim = True) #this takes the std across every patch\n",
        "        return self.a * (tokens-mean)/(std + self.eps) + self.b #this first normalizes every patch and then does a learned linear transformation on it "
      ]
    },
    {
      "cell_type": "code",
      "execution_count": null,
      "metadata": {},
      "outputs": [],
      "source": [
        "class PreTrainingMLP(nn.Module):\n",
        "    def __init__(self, D_MODEL, FINAL_HIDDEN_DIM):\n",
        "        super().__init__()\n",
        "        self.lin1 = nn.Linear(D_MODEL, FINAL_HIDDEN_DIM)\n",
        "        self.lin2 = nn.Linear(FINAL_HIDDEN_DIM, D_MODEL)\n",
        "        self.act = nn.GELU()\n",
        "        self.layers = nn.Sequential(self.lin1, self.act, self.lin2)\n",
        "    \n",
        "    def forward(self, tokens):\n",
        "        return self.layers(tokens)"
      ]
    },
    {
      "cell_type": "code",
      "execution_count": null,
      "metadata": {},
      "outputs": [],
      "source": [
        "#The first row in every batch of the transformer ouput is the changed class token. \n",
        "#We run this class token through a final module to compute classifications\n",
        "#The final module is an MLP with one hidden layer at pretraining time and it's a linear layer at finetuning time\n",
        "class Classifier(nn.Module):\n",
        "    def __init__(self, D_MODEL, CLASSES, FINAL_HIDDEN_DIM, pretrainingMLP, transformer, embeddings):\n",
        "        super().__init__()\n",
        "        self.pretraining = pretrainingMLP\n",
        "        self.finetuning = nn.Linear(D_MODEL, CLASSES)\n",
        "        self.tr = transformer\n",
        "        self.em = embeddings\n",
        "        self.pretraining = True\n",
        "\n",
        "    def switch_to_finetuning(self):\n",
        "        self.pretraining = False\n",
        "\n",
        "    def switch_to_pretraining(self):\n",
        "        self.pretraining = True\n",
        "    \n",
        "    def forward(self, tokens):\n",
        "        \n"
      ]
    },
    {
      "cell_type": "code",
      "execution_count": 66,
      "metadata": {},
      "outputs": [
        {
          "ename": "TypeError",
          "evalue": "GELU.__init__() got an unexpected keyword argument 'inplace'",
          "output_type": "error",
          "traceback": [
            "\u001b[0;31m---------------------------------------------------------------------------\u001b[0m",
            "\u001b[0;31mTypeError\u001b[0m                                 Traceback (most recent call last)",
            "Cell \u001b[0;32mIn[66], line 1\u001b[0m\n\u001b[0;32m----> 1\u001b[0m y \u001b[39m=\u001b[39m torchvision\u001b[39m.\u001b[39;49mops\u001b[39m.\u001b[39;49mMLP(\u001b[39m3\u001b[39;49m, [\u001b[39m4\u001b[39;49m, \u001b[39m5\u001b[39;49m], activation_layer\u001b[39m=\u001b[39;49mnn\u001b[39m.\u001b[39;49mGELU)\n\u001b[1;32m      2\u001b[0m x \u001b[39m=\u001b[39m torch\u001b[39m.\u001b[39mones((\u001b[39m4\u001b[39m, \u001b[39m3\u001b[39m))\n\u001b[1;32m      3\u001b[0m y(x)\n",
            "File \u001b[0;32m~/opt/anaconda3/envs/dl/lib/python3.10/site-packages/torchvision/ops/misc.py:290\u001b[0m, in \u001b[0;36mMLP.__init__\u001b[0;34m(self, in_channels, hidden_channels, norm_layer, activation_layer, inplace, bias, dropout)\u001b[0m\n\u001b[1;32m    288\u001b[0m \u001b[39mif\u001b[39;00m norm_layer \u001b[39mis\u001b[39;00m \u001b[39mnot\u001b[39;00m \u001b[39mNone\u001b[39;00m:\n\u001b[1;32m    289\u001b[0m     layers\u001b[39m.\u001b[39mappend(norm_layer(hidden_dim))\n\u001b[0;32m--> 290\u001b[0m layers\u001b[39m.\u001b[39mappend(activation_layer(\u001b[39m*\u001b[39;49m\u001b[39m*\u001b[39;49mparams))\n\u001b[1;32m    291\u001b[0m layers\u001b[39m.\u001b[39mappend(torch\u001b[39m.\u001b[39mnn\u001b[39m.\u001b[39mDropout(dropout, \u001b[39m*\u001b[39m\u001b[39m*\u001b[39mparams))\n\u001b[1;32m    292\u001b[0m in_dim \u001b[39m=\u001b[39m hidden_dim\n",
            "\u001b[0;31mTypeError\u001b[0m: GELU.__init__() got an unexpected keyword argument 'inplace'"
          ]
        }
      ],
      "source": []
    },
    {
      "cell_type": "code",
      "execution_count": 15,
      "metadata": {},
      "outputs": [
        {
          "data": {
            "text/plain": [
              "torch.Size([49, 10])"
            ]
          },
          "execution_count": 15,
          "metadata": {},
          "output_type": "execute_result"
        }
      ],
      "source": [
        "tokens0 = patchify(mnist_trainset[1][0])\n",
        "tokens1 = patchify(mnist_testset[2][0])\n",
        "tokens0.shape\n",
        "lin = nn.Linear(16, 10)\n",
        "lin(tokens0).shape\n"
      ]
    },
    {
      "cell_type": "code",
      "execution_count": 32,
      "metadata": {},
      "outputs": [
        {
          "data": {
            "text/plain": [
              "torch.Size([2, 50, 16])"
            ]
          },
          "execution_count": 32,
          "metadata": {},
          "output_type": "execute_result"
        }
      ],
      "source": [
        "em = Embeddings(D_MODEL)\n",
        "em0 = em(tokens0)\n",
        "em1 = em(tokens1)\n",
        "batch = torch.stack([em0, em1])\n",
        "batch.shape\n",
        "#One forward pass!\n"
      ]
    },
    {
      "cell_type": "code",
      "execution_count": 34,
      "metadata": {},
      "outputs": [
        {
          "data": {
            "text/plain": [
              "torch.Size([50, 16])"
            ]
          },
          "execution_count": 34,
          "metadata": {},
          "output_type": "execute_result"
        }
      ],
      "source": [
        "em0.shape\n",
        "em1.shape"
      ]
    },
    {
      "cell_type": "code",
      "execution_count": 49,
      "metadata": {},
      "outputs": [],
      "source": [
        "ln = LayerNorm(em0.shape)\n",
        "normed_batch = ln(batch)\n",
        "#normed_batch.mean(-1, keepdim=True) ~ torch.zeros(normed_batch)"
      ]
    },
    {
      "cell_type": "code",
      "execution_count": 79,
      "metadata": {},
      "outputs": [
        {
          "ename": "RuntimeError",
          "evalue": "Tensors must have same number of dimensions: got 2 and 3",
          "output_type": "error",
          "traceback": [
            "\u001b[0;31m---------------------------------------------------------------------------\u001b[0m",
            "\u001b[0;31mRuntimeError\u001b[0m                              Traceback (most recent call last)",
            "Cell \u001b[0;32mIn[79], line 1\u001b[0m\n\u001b[0;32m----> 1\u001b[0m em(torch\u001b[39m.\u001b[39;49mstack([tokens0, tokens1]))\n",
            "File \u001b[0;32m~/opt/anaconda3/envs/dl/lib/python3.10/site-packages/torch/nn/modules/module.py:1130\u001b[0m, in \u001b[0;36mModule._call_impl\u001b[0;34m(self, *input, **kwargs)\u001b[0m\n\u001b[1;32m   1126\u001b[0m \u001b[39m# If we don't have any hooks, we want to skip the rest of the logic in\u001b[39;00m\n\u001b[1;32m   1127\u001b[0m \u001b[39m# this function, and just call forward.\u001b[39;00m\n\u001b[1;32m   1128\u001b[0m \u001b[39mif\u001b[39;00m \u001b[39mnot\u001b[39;00m (\u001b[39mself\u001b[39m\u001b[39m.\u001b[39m_backward_hooks \u001b[39mor\u001b[39;00m \u001b[39mself\u001b[39m\u001b[39m.\u001b[39m_forward_hooks \u001b[39mor\u001b[39;00m \u001b[39mself\u001b[39m\u001b[39m.\u001b[39m_forward_pre_hooks \u001b[39mor\u001b[39;00m _global_backward_hooks\n\u001b[1;32m   1129\u001b[0m         \u001b[39mor\u001b[39;00m _global_forward_hooks \u001b[39mor\u001b[39;00m _global_forward_pre_hooks):\n\u001b[0;32m-> 1130\u001b[0m     \u001b[39mreturn\u001b[39;00m forward_call(\u001b[39m*\u001b[39;49m\u001b[39minput\u001b[39;49m, \u001b[39m*\u001b[39;49m\u001b[39m*\u001b[39;49mkwargs)\n\u001b[1;32m   1131\u001b[0m \u001b[39m# Do not call functions when jit is used\u001b[39;00m\n\u001b[1;32m   1132\u001b[0m full_backward_hooks, non_full_backward_hooks \u001b[39m=\u001b[39m [], []\n",
            "Cell \u001b[0;32mIn[7], line 14\u001b[0m, in \u001b[0;36mEmbeddings.forward\u001b[0;34m(self, x)\u001b[0m\n\u001b[1;32m     12\u001b[0m x \u001b[39m=\u001b[39m \u001b[39mself\u001b[39m\u001b[39m.\u001b[39mlin(x)\n\u001b[1;32m     13\u001b[0m \u001b[39m#prepend the class embedding\u001b[39;00m\n\u001b[0;32m---> 14\u001b[0m x \u001b[39m=\u001b[39m torch\u001b[39m.\u001b[39;49mcat((\u001b[39mself\u001b[39;49m\u001b[39m.\u001b[39;49my, x), dim\u001b[39m=\u001b[39;49m\u001b[39m0\u001b[39;49m)\n\u001b[1;32m     15\u001b[0m \u001b[39m#add positional embeddings\u001b[39;00m\n\u001b[1;32m     16\u001b[0m x \u001b[39m=\u001b[39m x \u001b[39m+\u001b[39m \u001b[39mself\u001b[39m\u001b[39m.\u001b[39mpos\n",
            "\u001b[0;31mRuntimeError\u001b[0m: Tensors must have same number of dimensions: got 2 and 3"
          ]
        }
      ],
      "source": [
        "em(torch.stack([tokens0, tokens1]))"
      ]
    }
  ],
  "metadata": {
    "colab": {
      "authorship_tag": "ABX9TyP8mqETBLn6o6pOoCdYeK8q",
      "include_colab_link": true,
      "provenance": []
    },
    "kernelspec": {
      "display_name": "dl",
      "language": "python",
      "name": "python3"
    },
    "language_info": {
      "codemirror_mode": {
        "name": "ipython",
        "version": 3
      },
      "file_extension": ".py",
      "mimetype": "text/x-python",
      "name": "python",
      "nbconvert_exporter": "python",
      "pygments_lexer": "ipython3",
      "version": "3.10.9"
    },
    "vscode": {
      "interpreter": {
        "hash": "d782e47a1f603e227a0ac388a70c35e6e40e784f1118a1a1d8a2e6b14e83900c"
      }
    }
  },
  "nbformat": 4,
  "nbformat_minor": 0
}
